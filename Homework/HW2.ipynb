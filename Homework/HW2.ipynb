{
 "cells": [
  {
   "cell_type": "markdown",
   "metadata": {},
   "source": [
    "\n",
    "# HW2: Cleaning and Grouping\n",
    "\n",
    "## Part 1: Loading the Data\n",
    "Using the [adult income dataset](https://archive.ics.uci.edu/ml/machine-learning-databases/adult/adult.data) we used in HW1, we're going to create more function to take care of all the data munging strategies we learned today. \n",
    "\n",
    "Read in the dataframe: "
   ]
  },
  {
   "cell_type": "code",
   "execution_count": 1,
   "metadata": {},
   "outputs": [
    {
     "ename": "SyntaxError",
     "evalue": "invalid syntax (<ipython-input-1-f81aca877443>, line 1)",
     "output_type": "error",
     "traceback": [
      "\u001b[1;36m  File \u001b[1;32m\"<ipython-input-1-f81aca877443>\"\u001b[1;36m, line \u001b[1;32m1\u001b[0m\n\u001b[1;33m    adult_df = # read in the dataframe here\u001b[0m\n\u001b[1;37m                                           ^\u001b[0m\n\u001b[1;31mSyntaxError\u001b[0m\u001b[1;31m:\u001b[0m invalid syntax\n"
     ]
    }
   ],
   "source": [
    "adult_df = # read in the dataframe here"
   ]
  },
  {
   "cell_type": "markdown",
   "metadata": {},
   "source": [
    "Now add the following list of column names: Add the following column names: \n",
    "`[\"age$$\", \"workclass!!\", \"fnlwgt\", \"education\", \"education_num\", \"marital-status\", \"occupation\", \"relationship\", \"race\", \"sex\",\"capital_gain\", \"capital_loss\", \"hours_per_week\", \"native_country\", \"income\"]`"
   ]
  },
  {
   "cell_type": "code",
   "execution_count": null,
   "metadata": {},
   "outputs": [],
   "source": []
  },
  {
   "cell_type": "markdown",
   "metadata": {},
   "source": [
    "## Part 2: Creating Data Munging Functions\n",
    "Create one function to perform each of the following tasks: \n",
    "#### 1. Remove symbols from column headers\n",
    "    - This function should take in a dataframe and a symbol to remove as arguments\n",
    "    - It should remove the symbol from all column names\n",
    "\n",
    "#### 2. Replace missing numeric values with the column mean\n",
    "    - This function should take in a dataframe and column names as arguments\n",
    "    - For the specified integer column, it should replace any null values with the mean for the column\n",
    "\n",
    "Write those functions below: "
   ]
  },
  {
   "cell_type": "code",
   "execution_count": null,
   "metadata": {},
   "outputs": [],
   "source": []
  },
  {
   "cell_type": "markdown",
   "metadata": {},
   "source": [
    "## Part 3: Apply the functions to the adult dataset \n",
    "Apply each of your functions to the adult dataset. Check to make sure they worked properly. "
   ]
  },
  {
   "cell_type": "code",
   "execution_count": null,
   "metadata": {},
   "outputs": [],
   "source": []
  },
  {
   "cell_type": "markdown",
   "metadata": {},
   "source": [
    "## Part 4: Grouping\n",
    "Group the adult dataset by education and calculate the mean age for each group. "
   ]
  },
  {
   "cell_type": "code",
   "execution_count": null,
   "metadata": {},
   "outputs": [],
   "source": []
  },
  {
   "cell_type": "markdown",
   "metadata": {},
   "source": [
    "## Part 5: Apply these functions to your final project dataset\n",
    "Apply each of the functions above to your dataset. "
   ]
  },
  {
   "cell_type": "code",
   "execution_count": null,
   "metadata": {},
   "outputs": [],
   "source": []
  },
  {
   "cell_type": "markdown",
   "metadata": {},
   "source": [
    "## Part 6: Use groupby to answer two questions about your dataset that you will use in your final project. "
   ]
  },
  {
   "cell_type": "code",
   "execution_count": null,
   "metadata": {},
   "outputs": [],
   "source": []
  }
 ],
 "metadata": {
  "kernelspec": {
   "display_name": "Python 3",
   "language": "python",
   "name": "python3"
  },
  "language_info": {
   "codemirror_mode": {
    "name": "ipython",
    "version": 3
   },
   "file_extension": ".py",
   "mimetype": "text/x-python",
   "name": "python",
   "nbconvert_exporter": "python",
   "pygments_lexer": "ipython3",
   "version": "3.7.3"
  }
 },
 "nbformat": 4,
 "nbformat_minor": 2
}
